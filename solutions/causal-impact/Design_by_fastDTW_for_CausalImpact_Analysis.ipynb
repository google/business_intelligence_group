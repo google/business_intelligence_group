Copyright 2022 Google LLC

Licensed under the Apache License, Version 2.0 (the "License");
you may not use this file except in compliance with the License.
You may obtain a copy of the License at

    https://www.apache.org/licenses/LICENSE-2.0

Unless required by applicable law or agreed to in writing, software
distributed under the License is distributed on an "AS IS" BASIS,
WITHOUT WARRANTIES OR CONDITIONS OF ANY KIND, either express or implied.
See the License for the specific language governing permissions and
limitations under the License.

!pip install gspread
!pip install fastdtw

from google.colab import auth
from oauth2client.client import GoogleCredentials
import gspread
import pandas as pd
import fastdtw
from scipy.spatial.distance import euclidean
import random

import numpy as np
import matplotlib.pyplot as plt

auth.authenticate_user()
gc = gspread.authorize(GoogleCredentials.get_application_default())

ss_name = "Sample_data_for_DTW" #@param {type: "string"}
sheet_name = "sample_data" #@param {type: "string"}
workbook = gc.open(ss_name)
worksheet = workbook.worksheet(sheet_name)
df_sheet = pd.DataFrame(worksheet.get_all_values())

df_sheet.columns = list(df_sheet.loc[0, :])
df_sheet.drop(0, inplace=True)
df_sheet.reset_index(inplace=True)
df_sheet.drop('index', axis=1, inplace=True)
df_sheet.head()

# @markdown Date
date_col = 'date'  #@param {type: "string"}
# @markdown Pre Test End Date
pre_test_end = '2021-10-31'  #@param {type: "date"}
# @markdown KPI col
kpi_col = 'KPI'  #@param {type: "string"}
# @markdown Group col
group_col = 'geo'  #@param {type: "string"}

df_sheet[date_col] = pd.to_datetime(df_sheet[date_col])

temp = df_sheet[[date_col, kpi_col,
                group_col]].groupby([date_col, group_col]).sum().reset_index()
temp_pvt = pd.pivot_table(temp, index=date_col, columns=group_col)
temp_pvt.columns = temp_pvt.columns.droplevel(0)

date_list = pd.date_range(
    start=min(df_sheet[date_col]),
    end=max(df_sheet[date_col]),
    freq='D',
    name=date_col)
df_design_all = pd.merge(
    pd.DataFrame(date_list), temp_pvt, on=date_col, how='left')
df_design_all.fillna(0, inplace=True)
min_date = pd.to_datetime(min(df_sheet[date_col]))
pre_test_days = (pd.to_datetime(pre_test_end) - min_date).days + 1
df_design_pre = df_design_all[0:pre_test_days]
df_design_pre

# @markdown Optional : drop col?
has_drop_cols = 'No'  #@param ["Yes", "No"]

# @markdown drop col list
drop_cols = ['Tokyo']  #@param

if has_drop_cols == 'Yes':
  df_design_tgt = df_design_pre.drop(list(drop_cols), axis=1).copy()
  df_design_tgt.drop(date_col, axis=1, inplace=True)
else:
  df_design_tgt = df_design_pre.copy()
  df_design_tgt.drop(date_col, axis=1, inplace=True)
df_design_tgt.describe()

divide_by = '3'  #@param ["2", "3"]
divide_by = int(divide_by)
cols = ['dtw'] + list(range(0, divide_by, 1))

df_agg = pd.DataFrame(index=range(10), columns=cols)

for i in range(10):
  l = list(df_design_tgt.columns.values.tolist())
  length = len(l) // divide_by

  if divide_by == 2:
    sampling = random.sample(l, length)
    leftovers = df_design_tgt.drop(sampling, axis=1).columns.values.tolist()
    group1_agg = df_design_tgt.loc[:, sampling].sum(axis=1)
    group2_agg = df_design_tgt.loc[:, leftovers].sum(axis=1)

    grouped = pd.DataFrame([
        (group1_agg - group1_agg.min()) / (group1_agg.max() - group1_agg.min()),
        (group2_agg - group2_agg.min()) / (group2_agg.max() - group2_agg.min())
    ]).T

    # dtw
    distance, path = fastdtw.fastdtw(
        grouped.iloc[:, 0], grouped.iloc[:, 1], dist=euclidean)
    df_agg.iloc[i, 0] = distance
    df_agg.iloc[i, 1] = tuple(sampling)
    df_agg.iloc[i, 2] = tuple(leftovers)
  else:
    sampling = random.sample(l, length)
    leftovers_1 = random.sample(
        df_design_tgt.drop(sampling, axis=1).columns.values.tolist(), length)
    leftovers_2 = df_design_tgt.drop(
        sampling + leftovers_1, axis=1).columns.values.tolist()
    group1_agg = df_design_tgt.loc[:, sampling].sum(axis=1)
    group2_agg = df_design_tgt.loc[:, leftovers_1].sum(axis=1)
    group3_agg = df_design_tgt.loc[:, leftovers_2].sum(axis=1)

    grouped = pd.DataFrame([
        (group1_agg - group1_agg.min()) / (group1_agg.max() - group1_agg.min()),
        (group2_agg - group2_agg.min()) / (group2_agg.max() - group2_agg.min()),
        (group3_agg - group3_agg.min()) / (group3_agg.max() - group3_agg.min())
    ]).T

    # dtw
    distance_0_1, path = fastdtw.fastdtw(
        grouped.iloc[:, 0], grouped.iloc[:, 1], dist=euclidean)
    distance_1_2, path = fastdtw.fastdtw(
        grouped.iloc[:, 1], grouped.iloc[:, 2], dist=euclidean)
    distance_0_2, path = fastdtw.fastdtw(
        grouped.iloc[:, 0], grouped.iloc[:, 2], dist=euclidean)
    df_agg.iloc[i, 0] = distance_0_1 + distance_1_2 + distance_0_2
    df_agg.iloc[i, 1] = tuple(sampling)
    df_agg.iloc[i, 2] = tuple(leftovers_1)
    df_agg.iloc[i, 3] = tuple(leftovers_2)

df_agg = df_agg.drop_duplicates().sort_values('dtw').reset_index(drop=True)
df_agg.head(10)

# @markdown Plot
if divide_by == 2:
  print(df_agg.iloc[0, 1])
  print(df_agg.iloc[0, 2])

  df_designed = pd.DataFrame([
      df_design_tgt.loc[:, df_agg.iloc[0, 1]].sum(axis=1),
      df_design_tgt.loc[:, df_agg.iloc[0, 2]].sum(axis=1),
  ]).T
  df_designed_diff = pd.DataFrame(np.diff(df_designed, axis=0))

  print(df_designed_diff.corr())
  fig, axes = plt.subplots(nrows=1, ncols=divide_by, figsize=(25, 5))
  df_designed.plot(ax=axes[0], legend=False)
  df_designed_diff.plot.scatter(x=0, y=1, alpha=0.5, ax=axes[1])
else:
  print(df_agg.iloc[0, 1])
  print(df_agg.iloc[0, 2])
  print(df_agg.iloc[0, 3])

  df_designed = pd.DataFrame([
      df_design_tgt.loc[:, df_agg.iloc[0, 1]].sum(axis=1),
      df_design_tgt.loc[:, df_agg.iloc[0, 2]].sum(axis=1),
      df_design_tgt.loc[:, df_agg.iloc[0, 3]].sum(axis=1),
  ]).T
  df_designed_diff = pd.DataFrame(np.diff(df_designed, axis=0))

  print(df_designed_diff.corr())
  fig, axes = plt.subplots(nrows=1, ncols=divide_by + 1, figsize=(25, 5))
  df_designed.plot(ax=axes[0], legend=False)
  df_designed_diff.plot.scatter(x=0, y=1, alpha=0.5, ax=axes[1])
  df_designed_diff.plot.scatter(x=1, y=2, alpha=0.5, ax=axes[2])
  df_designed_diff.plot.scatter(x=0, y=2, alpha=0.5, ax=axes[3])

if divide_by == 2:
  df_agg = pd.DataFrame([
      date_list.strftime("%Y/%m/%d"),
      df_design_all.loc[:, df_agg.iloc[0, 1]].sum(axis=1),
      df_design_all.loc[:, df_agg.iloc[0, 2]].sum(axis=1),
  ], index=['date','test','control']).T
else:
  df = pd.DataFrame([
      date_list.strftime("%Y/%m/%d"),
      df_design_all.loc[:, df_agg.iloc[0, 1]].sum(axis=1),
      df_design_all.loc[:, df_agg.iloc[0, 2]].sum(axis=1),
      df_design_all.loc[:, df_agg.iloc[0, 3]].sum(axis=1),
  ], index=['date','test_1', 'test_2','control']).T

worksheet_objs = workbook.worksheets()
worksheets_list = []
for worksheet in worksheet_objs:
    worksheets_list.append(worksheet.title)

update_sheet = "for_CausalImpact" #@param {type: "string"}
if update_sheet not in worksheets_list:
    ci_sheet = workbook.add_worksheet(title=update_sheet, rows='100', cols='30')

ci_sheet.update([df.columns.values.tolist()] + df.values.tolist())
